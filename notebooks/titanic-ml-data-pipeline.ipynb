{
 "cells": [
  {
   "cell_type": "markdown",
   "metadata": {},
   "source": [
    "# Titanic \n",
    "\n",
    "The sinking of the RMS Titanic is one of the most infamous shipwrecks in history.  On April 15, 1912, during her maiden voyage, the Titanic sank after colliding with an iceberg, killing 1502 out of 2224 passengers and crew. This sensational tragedy shocked the international community and led to better safety regulations for ships.\n",
    "\n",
    "One of the reasons that the shipwreck led to such loss of life was that there were not enough lifeboats for the passengers and crew. Although there was some element of luck involved in surviving the sinking, some groups of people were more likely to survive than others, such as women, children, and the upper-class.\n",
    "\n",
    "In this challenge, we ask you to complete the analysis of what sorts of people were likely to survive. In particular, we ask you to apply the tools of machine learning to predict which passengers survived the tragedy.\n",
    "\n",
    "\n",
    "# Heuristic Goal\n",
    "It is your job to predict if a passenger survived the sinking of the Titanic or not. \n",
    "For each PassengerId in the test set, you must predict a 0 or 1 value for the Survived variable.\n",
    "\n",
    "# Heuristic Metric\n",
    "Your score is the percentage of passengers you correctly predict. This is known simply as \"accuracy”.\n",
    "\n",
    "\n",
    "#### Borrowed ideas from:\n",
    "- https://medium.com/@bogdan.cojocar/pyspark-and-xgboost-integration-tested-on-the-kaggle-titanic-dataset-4e75a568bdb"
   ]
  },
  {
   "cell_type": "code",
   "execution_count": 36,
   "metadata": {},
   "outputs": [],
   "source": [
    "import os\n",
    "import pyspark\n",
    "from pyspark import SparkConf, SparkContext\n",
    "from pyspark.sql import SQLContext, SparkSession, Row\n",
    "from pyspark.sql.types import *\n",
    "from pyspark.sql.functions import *\n",
    "from pyspark.ml import Pipeline\n",
    "from pyspark.ml import PipelineModel\n",
    "from pyspark.ml.wrapper import JavaEstimator, JavaModel\n",
    "from pyspark.ml.param.shared import HasFeaturesCol, HasLabelCol\n",
    "from pyspark.ml.feature import OneHotEncoder, StringIndexer, VectorAssembler, VectorIndexer, Bucketizer\n",
    "from pyspark.ml.tuning import ParamGridBuilder, CrossValidator\n",
    "from pyspark.ml.evaluation import BinaryClassificationEvaluator\n",
    "import pandas as pd\n",
    "import sklearn\n",
    "import xgboost as xgb\n",
    "# from xgboost import XGBClassifier\n",
    "import sklearn"
   ]
  },
  {
   "cell_type": "code",
   "execution_count": 2,
   "metadata": {},
   "outputs": [],
   "source": [
    "os.environ['PYSPARK_SUBMIT_ARGS'] = '--jars /Users/stirlingwaite/Projects/personal/utah-data-engineering-pyspark/jars/xgboost4j-spark-0.72.jar,/Users/stirlingwaite/Projects/personal/utah-data-engineering-pyspark/jars/xgboost4j-0.72.jar pyspark-shell'\n",
    "\n",
    "conf = SparkConf()\\\n",
    "                .setMaster(\"local[2]\")\\\n",
    "                .setAppName(\"titanicDataPipeline\")\\\n",
    "                .set(\"spark.executor.memory\", \"6g\")\\\n",
    "                .set(\"spark.driver.memory\", \"6g\") \n",
    "sc = SparkContext(conf=conf)\n",
    "sc.setLogLevel(\"ERROR\")\n",
    "sc.addPyFile(\"/Users/stirlingwaite/Projects/personal/utah-data-engineering-pyspark/jars/sparkxgb.zip\")\n",
    "sqlContext = SQLContext(sc)\n",
    "spark = SparkSession.builder.appName(\"spark play\").getOrCreate()"
   ]
  },
  {
   "cell_type": "markdown",
   "metadata": {},
   "source": [
    "# Training Data, Test Data, and Data Information:\n",
    "\n",
    "The training set should be used to build your machine learning models. For the training set, we provide the outcome (also known as the “ground truth”) for each passenger. Your model will be based on “features” like passengers’ gender and class. You can also use feature engineering to create new features.\n",
    "\n",
    "The test set should be used to see how well your model performs on unseen data. For the test set, we do not provide the ground truth for each passenger. It is your job to predict these outcomes. For each passenger in the test set, use the model you trained to predict whether or not they survived the sinking of the Titanic.\n",
    "\n",
    "### Data Set Information:\n",
    "- PassengerId: ID randomly assigned by Kaggle to data set\n",
    "- Survived: Prediction if the passenger survived or did not survive\n",
    "- Pclass: Ticket class - 1 = 1st, 2 = 2nd, 3 = 3rd\n",
    "- Name: Name of passenger:\n",
    "- Sex: Gender of passenger\n",
    "- Age: Age in years\t\n",
    "- SibSp: # of siblings / spouses aboard the Titanic\n",
    "- Parch: # of parents / children aboard the Titanic\t\n",
    "- Ticket: Ticket number\t\n",
    "- Fare: Passenger fare\t\n",
    "- Cabin: Cabin number\n",
    "- Embarked: Port of Embarkation \n",
    "    - C = Cherbourg, France\n",
    "    - Q = Queenstown, Ireland\n",
    "    - S = Southampton, England "
   ]
  },
  {
   "cell_type": "code",
   "execution_count": 3,
   "metadata": {},
   "outputs": [
    {
     "name": "stdout",
     "output_type": "stream",
     "text": [
      "+-----------+--------+------+--------------------+------+----+-----+-----+----------------+-------+-----+--------+\n",
      "|PassengerId|Survived|Pclass|                Name|   Sex| Age|SibSp|Parch|          Ticket|   Fare|Cabin|Embarked|\n",
      "+-----------+--------+------+--------------------+------+----+-----+-----+----------------+-------+-----+--------+\n",
      "|          1|       0|     3|Braund, Mr. Owen ...|  male|22.0|    1|    0|       A/5 21171|   7.25| null|       S|\n",
      "|          2|       1|     1|Cumings, Mrs. Joh...|female|38.0|    1|    0|        PC 17599|71.2833|  C85|       C|\n",
      "|          3|       1|     3|Heikkinen, Miss. ...|female|26.0|    0|    0|STON/O2. 3101282|  7.925| null|       S|\n",
      "|          4|       1|     1|Futrelle, Mrs. Ja...|female|35.0|    1|    0|          113803|   53.1| C123|       S|\n",
      "|          5|       0|     3|Allen, Mr. Willia...|  male|35.0|    0|    0|          373450|   8.05| null|       S|\n",
      "|          6|       0|     3|    Moran, Mr. James|  male|null|    0|    0|          330877| 8.4583| null|       Q|\n",
      "|          7|       0|     1|McCarthy, Mr. Tim...|  male|54.0|    0|    0|           17463|51.8625|  E46|       S|\n",
      "|          8|       0|     3|Palsson, Master. ...|  male| 2.0|    3|    1|          349909| 21.075| null|       S|\n",
      "|          9|       1|     3|Johnson, Mrs. Osc...|female|27.0|    0|    2|          347742|11.1333| null|       S|\n",
      "|         10|       1|     2|Nasser, Mrs. Nich...|female|14.0|    1|    0|          237736|30.0708| null|       C|\n",
      "|         11|       1|     3|Sandstrom, Miss. ...|female| 4.0|    1|    1|         PP 9549|   16.7|   G6|       S|\n",
      "|         12|       1|     1|Bonnell, Miss. El...|female|58.0|    0|    0|          113783|  26.55| C103|       S|\n",
      "|         13|       0|     3|Saundercock, Mr. ...|  male|20.0|    0|    0|       A/5. 2151|   8.05| null|       S|\n",
      "|         14|       0|     3|Andersson, Mr. An...|  male|39.0|    1|    5|          347082| 31.275| null|       S|\n",
      "|         15|       0|     3|Vestrom, Miss. Hu...|female|14.0|    0|    0|          350406| 7.8542| null|       S|\n",
      "|         16|       1|     2|Hewlett, Mrs. (Ma...|female|55.0|    0|    0|          248706|   16.0| null|       S|\n",
      "|         17|       0|     3|Rice, Master. Eugene|  male| 2.0|    4|    1|          382652| 29.125| null|       Q|\n",
      "|         18|       1|     2|Williams, Mr. Cha...|  male|null|    0|    0|          244373|   13.0| null|       S|\n",
      "|         19|       0|     3|Vander Planke, Mr...|female|31.0|    1|    0|          345763|   18.0| null|       S|\n",
      "|         20|       1|     3|Masselmani, Mrs. ...|female|null|    0|    0|            2649|  7.225| null|       C|\n",
      "+-----------+--------+------+--------------------+------+----+-----+-----+----------------+-------+-----+--------+\n",
      "only showing top 20 rows\n",
      "\n"
     ]
    }
   ],
   "source": [
    "training_df = spark.read.csv(\"file:///Users/stirlingwaite/Projects/personal/utah-data-engineering-pyspark/data/train.csv\", header=True, mode=\"DROPMALFORMED\", inferSchema='true', encoding=\"utf-8\").persist()\n",
    "testing_df = spark.read.csv(\"file:///Users/stirlingwaite/Projects/personal/utah-data-engineering-pyspark/data/test.csv\", header=True, mode=\"DROPMALFORMED\", inferSchema='true', encoding=\"utf-8\").persist()\n",
    "\n",
    "training_df.show()"
   ]
  },
  {
   "cell_type": "markdown",
   "metadata": {},
   "source": [
    "## Feature Engineering Step:\n",
    "- Surname Regex: Pull last name from the Name record\n",
    "- Honorific Regex: Pull title from the Name column.  Create a column per title.\n",
    "- Family Size: Add the SibSp and Parch columns, and a 1 for self\n",
    "- Family Buckets: Singleton = 1, SmallFam = 2 to 4, LargeFam > 5\n",
    "- Child feature: Is the person 18 or under\n",
    "- Mother feature: 16 or older, female, Honorific other than \"Miss\", and Parch greater than 0"
   ]
  },
  {
   "cell_type": "code",
   "execution_count": 4,
   "metadata": {},
   "outputs": [
    {
     "name": "stdout",
     "output_type": "stream",
     "text": [
      "+-----------+--------+------+--------------------+------+----+-----+-----+----------------+-------+-----+--------+-------------+---------+---+---+---+---+---+---+----+----+------------+---------+--------+--------+-----+------+\n",
      "|PassengerId|Survived|Pclass|                Name|   Sex| Age|SibSp|Parch|          Ticket|   Fare|Cabin|Embarked|      Surname|Honorific|Mil|Doc|Rev|Nob| Mr|Mrs|Miss|Mstr|TotalFamSize|Singleton|SmallFam|LargeFam|Child|Mother|\n",
      "+-----------+--------+------+--------------------+------+----+-----+-----+----------------+-------+-----+--------+-------------+---------+---+---+---+---+---+---+----+----+------------+---------+--------+--------+-----+------+\n",
      "|          1|       0|     3|Braund, Mr. Owen ...|  male|22.0|    1|    0|       A/5 21171|   7.25| null|       S|       Braund|       Mr|  0|  0|  0|  0|  1|  0|   0|   0|           2|        0|       1|       0|    0|     0|\n",
      "|          2|       1|     1|Cumings, Mrs. Joh...|female|38.0|    1|    0|        PC 17599|71.2833|  C85|       C|      Cumings|      Mrs|  0|  0|  0|  0|  0|  1|   0|   0|           2|        0|       1|       0|    0|     0|\n",
      "|          3|       1|     3|Heikkinen, Miss. ...|female|26.0|    0|    0|STON/O2. 3101282|  7.925| null|       S|    Heikkinen|     Miss|  0|  0|  0|  0|  0|  0|   1|   0|           1|        1|       0|       0|    0|     0|\n",
      "|          4|       1|     1|Futrelle, Mrs. Ja...|female|35.0|    1|    0|          113803|   53.1| C123|       S|     Futrelle|      Mrs|  0|  0|  0|  0|  0|  1|   0|   0|           2|        0|       1|       0|    0|     0|\n",
      "|          5|       0|     3|Allen, Mr. Willia...|  male|35.0|    0|    0|          373450|   8.05| null|       S|        Allen|       Mr|  0|  0|  0|  0|  1|  0|   0|   0|           1|        1|       0|       0|    0|     0|\n",
      "|          6|       0|     3|    Moran, Mr. James|  male|null|    0|    0|          330877| 8.4583| null|       Q|        Moran|       Mr|  0|  0|  0|  0|  1|  0|   0|   0|           1|        1|       0|       0|    0|     0|\n",
      "|          7|       0|     1|McCarthy, Mr. Tim...|  male|54.0|    0|    0|           17463|51.8625|  E46|       S|     McCarthy|       Mr|  0|  0|  0|  0|  1|  0|   0|   0|           1|        1|       0|       0|    0|     0|\n",
      "|          8|       0|     3|Palsson, Master. ...|  male| 2.0|    3|    1|          349909| 21.075| null|       S|      Palsson|   Master|  0|  0|  0|  0|  0|  0|   0|   1|           5|        0|       0|       1|    1|     0|\n",
      "|          9|       1|     3|Johnson, Mrs. Osc...|female|27.0|    0|    2|          347742|11.1333| null|       S|      Johnson|      Mrs|  0|  0|  0|  0|  0|  1|   0|   0|           3|        0|       1|       0|    0|     1|\n",
      "|         10|       1|     2|Nasser, Mrs. Nich...|female|14.0|    1|    0|          237736|30.0708| null|       C|       Nasser|      Mrs|  0|  0|  0|  0|  0|  1|   0|   0|           2|        0|       1|       0|    1|     0|\n",
      "|         11|       1|     3|Sandstrom, Miss. ...|female| 4.0|    1|    1|         PP 9549|   16.7|   G6|       S|    Sandstrom|     Miss|  0|  0|  0|  0|  0|  0|   1|   0|           3|        0|       1|       0|    1|     0|\n",
      "|         12|       1|     1|Bonnell, Miss. El...|female|58.0|    0|    0|          113783|  26.55| C103|       S|      Bonnell|     Miss|  0|  0|  0|  0|  0|  0|   1|   0|           1|        1|       0|       0|    0|     0|\n",
      "|         13|       0|     3|Saundercock, Mr. ...|  male|20.0|    0|    0|       A/5. 2151|   8.05| null|       S|  Saundercock|       Mr|  0|  0|  0|  0|  1|  0|   0|   0|           1|        1|       0|       0|    0|     0|\n",
      "|         14|       0|     3|Andersson, Mr. An...|  male|39.0|    1|    5|          347082| 31.275| null|       S|    Andersson|       Mr|  0|  0|  0|  0|  1|  0|   0|   0|           7|        0|       0|       1|    0|     0|\n",
      "|         15|       0|     3|Vestrom, Miss. Hu...|female|14.0|    0|    0|          350406| 7.8542| null|       S|      Vestrom|     Miss|  0|  0|  0|  0|  0|  0|   1|   0|           1|        1|       0|       0|    1|     0|\n",
      "|         16|       1|     2|Hewlett, Mrs. (Ma...|female|55.0|    0|    0|          248706|   16.0| null|       S|      Hewlett|      Mrs|  0|  0|  0|  0|  0|  1|   0|   0|           1|        1|       0|       0|    0|     0|\n",
      "|         17|       0|     3|Rice, Master. Eugene|  male| 2.0|    4|    1|          382652| 29.125| null|       Q|         Rice|   Master|  0|  0|  0|  0|  0|  0|   0|   1|           6|        0|       0|       1|    1|     0|\n",
      "|         18|       1|     2|Williams, Mr. Cha...|  male|null|    0|    0|          244373|   13.0| null|       S|     Williams|       Mr|  0|  0|  0|  0|  1|  0|   0|   0|           1|        1|       0|       0|    0|     0|\n",
      "|         19|       0|     3|Vander Planke, Mr...|female|31.0|    1|    0|          345763|   18.0| null|       S|Vander Planke|      Mrs|  0|  0|  0|  0|  0|  1|   0|   0|           2|        0|       1|       0|    0|     0|\n",
      "|         20|       1|     3|Masselmani, Mrs. ...|female|null|    0|    0|            2649|  7.225| null|       C|   Masselmani|      Mrs|  0|  0|  0|  0|  0|  1|   0|   0|           1|        1|       0|       0|    0|     0|\n",
      "+-----------+--------+------+--------------------+------+----+-----+-----+----------------+-------+-----+--------+-------------+---------+---+---+---+---+---+---+----+----+------------+---------+--------+--------+-----+------+\n",
      "only showing top 20 rows\n",
      "\n"
     ]
    }
   ],
   "source": [
    "training_features = (training_df\n",
    "                    .withColumn(\"Surname\", regexp_extract(col(\"Name\"),\"([\\\\w ']+),\",1))\n",
    "                    .withColumn(\"Honorific\", regexp_extract(col(\"Name\"),\"(.*?)([\\\\w]+?)[.]\",2))\n",
    "                    .withColumn(\"Mil\", when((col(\"Honorific\") == \"Col\") | (col(\"Honorific\") == \"Major\") | (col(\"Honorific\") == \"Capt\"), 1).otherwise(0))\n",
    "                    .withColumn(\"Doc\", when(col(\"Honorific\") == \"Dr\", 1).otherwise(0))\n",
    "                    .withColumn(\"Rev\", when(col(\"Honorific\") == \"Rev\", 1).otherwise(0))\n",
    "                    .withColumn(\"Nob\", when((col(\"Honorific\") == \"Sir\") |\n",
    "                        (col(\"Honorific\") == \"Countess\") |\n",
    "                        (col(\"Honorific\") == \"Count\") |\n",
    "                        (col(\"Honorific\") == \"Duke\") |\n",
    "                        (col(\"Honorific\") == \"Duchess\") |\n",
    "                        (col(\"Honorific\") == \"Jonkheer\") |\n",
    "                        (col(\"Honorific\") == \"Don\") |\n",
    "                        (col(\"Honorific\") == \"Dona\") |\n",
    "                        (col(\"Honorific\") == \"Lord\") |\n",
    "                        (col(\"Honorific\") == \"Lady\") |\n",
    "                        (col(\"Honorific\") == \"Earl\") |\n",
    "                        (col(\"Honorific\") == \"Baron\"), 1).otherwise(0))\n",
    "                    .withColumn(\"Mr\", when(col(\"Honorific\") == \"Mr\", 1).otherwise(0))\n",
    "                    .withColumn(\"Mrs\", when((col(\"Honorific\") == \"Mrs\") | (col(\"Honorific\") == \"Mme\"), 1).otherwise(0))\n",
    "                    .withColumn(\"Miss\", when((col(\"Honorific\") == \"Miss\") | (col(\"Honorific\") == \"Mlle\"), 1).otherwise(0))\n",
    "                    .withColumn(\"Mstr\", when(col(\"Honorific\") == \"Master\", 1).otherwise(0))\n",
    "                    .withColumn(\"TotalFamSize\", col(\"SibSp\") + col(\"Parch\") + 1)\n",
    "                    .withColumn(\"Singleton\", when(col(\"TotalFamSize\") == 1, 1).otherwise(0))\n",
    "                    .withColumn(\"SmallFam\", when((col(\"TotalFamSize\") <= 4) & (col(\"TotalFamSize\") > 1), 1).otherwise(0))\n",
    "                    .withColumn(\"LargeFam\", when(col(\"TotalFamSize\") >= 5, 1).otherwise(0))\n",
    "                    .withColumn(\"Child\", when((col(\"Age\") <= 18), 1).otherwise(0))\n",
    "                    .withColumn(\"Mother\", when((col(\"Age\") > 15) &\n",
    "                                                (col(\"Parch\") > 0) & \n",
    "                                                (col(\"Miss\") == 0) & \n",
    "                                                (col(\"Sex\") == \"female\"),1).otherwise(0))\n",
    "                    )\n",
    "training_features.show()"
   ]
  },
  {
   "cell_type": "markdown",
   "metadata": {},
   "source": [
    "# Explore the data with Spark\n",
    "- Embarked: Port of Embarkation \n",
    "    - C = Cherbourg, France\n",
    "    - Q = Queenstown, Ireland\n",
    "    - S = Southampton, England"
   ]
  },
  {
   "cell_type": "code",
   "execution_count": 5,
   "metadata": {},
   "outputs": [
    {
     "name": "stdout",
     "output_type": "stream",
     "text": [
      "+------+--------+-----+------------------+---------+---------+------------------+\n",
      "|Pclass|Embarked|count|         avg(Fare)|min(Fare)|max(Fare)| stddev_samp(Fare)|\n",
      "+------+--------+-----+------------------+---------+---------+------------------+\n",
      "|     1|    null|    2|              80.0|     80.0|     80.0|               0.0|\n",
      "|     1|       C|   85|104.71852941176469|    26.55| 512.3292|  99.0939349696501|\n",
      "|     1|       Q|    2|              90.0|     90.0|     90.0|               0.0|\n",
      "|     1|       S|  127| 70.36486220472443|      0.0|    263.0|58.811277761795566|\n",
      "|     2|       C|   17|25.358335294117644|     12.0|  41.5792|11.345067090697457|\n",
      "|     2|       Q|    3|             12.35|    12.35|    12.35|               0.0|\n",
      "|     2|       S|  164|20.327439024390245|      0.0|     73.5|13.630741099088103|\n",
      "|     3|       C|   66|11.214083333333337|   4.0125|  22.3583| 4.871528353625736|\n",
      "|     3|       Q|   72|11.183393055555557|     6.75|   29.125| 6.721676511682005|\n",
      "|     3|       S|  353| 14.64408300283288|      0.0|    69.55|13.276608721649458|\n",
      "+------+--------+-----+------------------+---------+---------+------------------+\n",
      "\n"
     ]
    }
   ],
   "source": [
    "(training_features.groupBy(\"Pclass\",\"Embarked\")\n",
    "                  .agg(\n",
    "                      count(\"*\").alias(\"count\"),\n",
    "                      avg(\"Fare\"),\n",
    "                      min(\"Fare\"),\n",
    "                      max(\"Fare\"),\n",
    "                      stddev(\"Fare\")\n",
    "                  )\n",
    "                  .orderBy(\"Pclass\",\"Embarked\")\n",
    "                  .show())\n",
    "\n",
    "training_features.createOrReplaceTempView(\"training_features\")"
   ]
  },
  {
   "cell_type": "markdown",
   "metadata": {},
   "source": [
    "### Exploring the data with Spark SQL"
   ]
  },
  {
   "cell_type": "code",
   "execution_count": 6,
   "metadata": {},
   "outputs": [
    {
     "name": "stdout",
     "output_type": "stream",
     "text": [
      "+------+--------+-----------+\n",
      "|Pclass|Embarked|Median_Fare|\n",
      "+------+--------+-----------+\n",
      "|     1|    null|       80.0|\n",
      "|     1|       Q|       90.0|\n",
      "|     1|       C|    78.2667|\n",
      "|     1|       S|       52.0|\n",
      "+------+--------+-----------+\n",
      "\n"
     ]
    }
   ],
   "source": [
    "spark.sql(\"\"\"\n",
    "          SELECT \n",
    "              Pclass,\n",
    "              Embarked,\n",
    "              percentile_approx(Fare, 0.5) AS Median_Fare \n",
    "          FROM training_features \n",
    "          WHERE Fare IS NOT NULL \n",
    "          AND Pclass = 1 \n",
    "          GROUP BY Pclass, Embarked\n",
    "          \"\"\").show()"
   ]
  },
  {
   "cell_type": "markdown",
   "metadata": {},
   "source": [
    "### Impute Embarked column\n",
    "### From the discovery above, the likely port is C, since the Median for C is closest to 80."
   ]
  },
  {
   "cell_type": "code",
   "execution_count": 7,
   "metadata": {},
   "outputs": [
    {
     "name": "stdout",
     "output_type": "stream",
     "text": [
      "+-----------+--------+------+--------------------+------+----+-----+-----+----------------+-------+-----+--------+-------------+---------+---+---+---+---+---+---+----+----+------------+---------+--------+--------+-----+------+\n",
      "|PassengerId|Survived|Pclass|                Name|   Sex| Age|SibSp|Parch|          Ticket|   Fare|Cabin|Embarked|      Surname|Honorific|Mil|Doc|Rev|Nob| Mr|Mrs|Miss|Mstr|TotalFamSize|Singleton|SmallFam|LargeFam|Child|Mother|\n",
      "+-----------+--------+------+--------------------+------+----+-----+-----+----------------+-------+-----+--------+-------------+---------+---+---+---+---+---+---+----+----+------------+---------+--------+--------+-----+------+\n",
      "|          1|       0|     3|Braund, Mr. Owen ...|  male|22.0|    1|    0|       A/5 21171|   7.25| null|       S|       Braund|       Mr|  0|  0|  0|  0|  1|  0|   0|   0|           2|        0|       1|       0|    0|     0|\n",
      "|          2|       1|     1|Cumings, Mrs. Joh...|female|38.0|    1|    0|        PC 17599|71.2833|  C85|       C|      Cumings|      Mrs|  0|  0|  0|  0|  0|  1|   0|   0|           2|        0|       1|       0|    0|     0|\n",
      "|          3|       1|     3|Heikkinen, Miss. ...|female|26.0|    0|    0|STON/O2. 3101282|  7.925| null|       S|    Heikkinen|     Miss|  0|  0|  0|  0|  0|  0|   1|   0|           1|        1|       0|       0|    0|     0|\n",
      "|          4|       1|     1|Futrelle, Mrs. Ja...|female|35.0|    1|    0|          113803|   53.1| C123|       S|     Futrelle|      Mrs|  0|  0|  0|  0|  0|  1|   0|   0|           2|        0|       1|       0|    0|     0|\n",
      "|          5|       0|     3|Allen, Mr. Willia...|  male|35.0|    0|    0|          373450|   8.05| null|       S|        Allen|       Mr|  0|  0|  0|  0|  1|  0|   0|   0|           1|        1|       0|       0|    0|     0|\n",
      "|          6|       0|     3|    Moran, Mr. James|  male|null|    0|    0|          330877| 8.4583| null|       Q|        Moran|       Mr|  0|  0|  0|  0|  1|  0|   0|   0|           1|        1|       0|       0|    0|     0|\n",
      "|          7|       0|     1|McCarthy, Mr. Tim...|  male|54.0|    0|    0|           17463|51.8625|  E46|       S|     McCarthy|       Mr|  0|  0|  0|  0|  1|  0|   0|   0|           1|        1|       0|       0|    0|     0|\n",
      "|          8|       0|     3|Palsson, Master. ...|  male| 2.0|    3|    1|          349909| 21.075| null|       S|      Palsson|   Master|  0|  0|  0|  0|  0|  0|   0|   1|           5|        0|       0|       1|    1|     0|\n",
      "|          9|       1|     3|Johnson, Mrs. Osc...|female|27.0|    0|    2|          347742|11.1333| null|       S|      Johnson|      Mrs|  0|  0|  0|  0|  0|  1|   0|   0|           3|        0|       1|       0|    0|     1|\n",
      "|         10|       1|     2|Nasser, Mrs. Nich...|female|14.0|    1|    0|          237736|30.0708| null|       C|       Nasser|      Mrs|  0|  0|  0|  0|  0|  1|   0|   0|           2|        0|       1|       0|    1|     0|\n",
      "|         11|       1|     3|Sandstrom, Miss. ...|female| 4.0|    1|    1|         PP 9549|   16.7|   G6|       S|    Sandstrom|     Miss|  0|  0|  0|  0|  0|  0|   1|   0|           3|        0|       1|       0|    1|     0|\n",
      "|         12|       1|     1|Bonnell, Miss. El...|female|58.0|    0|    0|          113783|  26.55| C103|       S|      Bonnell|     Miss|  0|  0|  0|  0|  0|  0|   1|   0|           1|        1|       0|       0|    0|     0|\n",
      "|         13|       0|     3|Saundercock, Mr. ...|  male|20.0|    0|    0|       A/5. 2151|   8.05| null|       S|  Saundercock|       Mr|  0|  0|  0|  0|  1|  0|   0|   0|           1|        1|       0|       0|    0|     0|\n",
      "|         14|       0|     3|Andersson, Mr. An...|  male|39.0|    1|    5|          347082| 31.275| null|       S|    Andersson|       Mr|  0|  0|  0|  0|  1|  0|   0|   0|           7|        0|       0|       1|    0|     0|\n",
      "|         15|       0|     3|Vestrom, Miss. Hu...|female|14.0|    0|    0|          350406| 7.8542| null|       S|      Vestrom|     Miss|  0|  0|  0|  0|  0|  0|   1|   0|           1|        1|       0|       0|    1|     0|\n",
      "|         16|       1|     2|Hewlett, Mrs. (Ma...|female|55.0|    0|    0|          248706|   16.0| null|       S|      Hewlett|      Mrs|  0|  0|  0|  0|  0|  1|   0|   0|           1|        1|       0|       0|    0|     0|\n",
      "|         17|       0|     3|Rice, Master. Eugene|  male| 2.0|    4|    1|          382652| 29.125| null|       Q|         Rice|   Master|  0|  0|  0|  0|  0|  0|   0|   1|           6|        0|       0|       1|    1|     0|\n",
      "|         18|       1|     2|Williams, Mr. Cha...|  male|null|    0|    0|          244373|   13.0| null|       S|     Williams|       Mr|  0|  0|  0|  0|  1|  0|   0|   0|           1|        1|       0|       0|    0|     0|\n",
      "|         19|       0|     3|Vander Planke, Mr...|female|31.0|    1|    0|          345763|   18.0| null|       S|Vander Planke|      Mrs|  0|  0|  0|  0|  0|  1|   0|   0|           2|        0|       1|       0|    0|     0|\n",
      "|         20|       1|     3|Masselmani, Mrs. ...|female|null|    0|    0|            2649|  7.225| null|       C|   Masselmani|      Mrs|  0|  0|  0|  0|  0|  1|   0|   0|           1|        1|       0|       0|    0|     0|\n",
      "+-----------+--------+------+--------------------+------+----+-----+-----+----------------+-------+-----+--------+-------------+---------+---+---+---+---+---+---+----+----+------------+---------+--------+--------+-----+------+\n",
      "only showing top 20 rows\n",
      "\n",
      "None\n"
     ]
    }
   ],
   "source": [
    "train_embarked = training_features.na.fill(\"C\", [\"Embarked\"])\n",
    "print(train_embarked.show())"
   ]
  },
  {
   "cell_type": "markdown",
   "metadata": {},
   "source": [
    "## Perform discovery on missing data in Age column\n",
    "- Create the temp table view so we can perform spark.sql queries on the dataframe"
   ]
  },
  {
   "cell_type": "code",
   "execution_count": 8,
   "metadata": {},
   "outputs": [],
   "source": [
    "train_embarked.createOrReplaceTempView(\"train_embarked\")"
   ]
  },
  {
   "cell_type": "markdown",
   "metadata": {},
   "source": [
    "## Explore the data\n",
    "- Count nulls for each Honorific.  Some titles can imply age (miss,master,etc)"
   ]
  },
  {
   "cell_type": "code",
   "execution_count": 9,
   "metadata": {},
   "outputs": [
    {
     "name": "stdout",
     "output_type": "stream",
     "text": [
      "+---------+-------+\n",
      "|Honorific|nullAge|\n",
      "+---------+-------+\n",
      "|     Miss|     36|\n",
      "|   Master|      4|\n",
      "|       Mr|    119|\n",
      "|       Dr|      1|\n",
      "|      Mrs|     17|\n",
      "+---------+-------+\n",
      "\n"
     ]
    }
   ],
   "source": [
    "spark.sql(\"SELECT Honorific,count(*) as nullAge FROM train_embarked WHERE Age IS NULL GROUP BY Honorific\").show()"
   ]
  },
  {
   "cell_type": "markdown",
   "metadata": {},
   "source": [
    "## Calculate the average age for the honorific titles that have nulls"
   ]
  },
  {
   "cell_type": "code",
   "execution_count": 10,
   "metadata": {},
   "outputs": [
    {
     "name": "stdout",
     "output_type": "stream",
     "text": [
      "+---------+------+\n",
      "|Honorific|avgAge|\n",
      "+---------+------+\n",
      "|     Miss|  22.0|\n",
      "|   Master|   5.0|\n",
      "|       Mr|  32.0|\n",
      "|       Dr|  42.0|\n",
      "|      Mrs|  36.0|\n",
      "+---------+------+\n",
      "\n"
     ]
    }
   ],
   "source": [
    "spark.sql(\"SELECT Honorific,round(avg(Age)) as avgAge FROM train_embarked WHERE Age IS NOT NULL AND Honorific IN ('Miss','Master','Mr','Dr','Mrs') GROUP BY Honorific\").show()"
   ]
  },
  {
   "cell_type": "markdown",
   "metadata": {},
   "source": [
    "## Impute the missing Age values for the relevant Honorific columns and union the data back together"
   ]
  },
  {
   "cell_type": "code",
   "execution_count": 11,
   "metadata": {},
   "outputs": [],
   "source": [
    "train_miss_df = train_embarked.na.fill(22.0).where(\"Honorific = 'Miss'\")\n",
    "train_master_df = train_embarked.na.fill(5.0).where(\"Honorific = 'Master'\")\n",
    "train_mr_df = train_embarked.na.fill(32.0).where(\"Honorific = 'Mr'\")\n",
    "train_dr_df = train_embarked.na.fill(42.0).where(\"Honorific = 'Dr'\")\n",
    "train_mrs_df = train_embarked.na.fill(36.0).where(\"Honorific = 'Mrs'\")\n",
    "train_remainder_df = spark.sql(\"SELECT * FROM train_embarked WHERE Honorific NOT IN ('Miss','Master','Dr','Mr','Mrs')\")\n",
    "train_combined_df = train_remainder_df.union(train_miss_df).union(train_master_df).union(train_mr_df).union(train_dr_df).union(train_mrs_df)"
   ]
  },
  {
   "cell_type": "markdown",
   "metadata": {},
   "source": [
    "# Main Concepts\n",
    "\n",
    "Spark ML standardizes APIs for machine learning algorithms to make it easier to combine multiple algorithms into a single pipeline, or workflow. This section covers the key concepts introduced by the Spark ML API.\n",
    "\n",
    "- ML Dataset: Spark ML uses the SchemaRDD from Spark SQL as a dataset which can hold a variety of data types. E.g., a dataset could have different columns storing text, feature vectors, true labels, and predictions.\n",
    "\n",
    "- Transformer: A Transformer is an algorithm which can transform one SchemaRDD into another SchemaRDD. E.g., an ML model is a Transformer which transforms an RDD with features into an RDD with predictions.\n",
    "\n",
    "- Estimator: An Estimator is an algorithm which can be fit on a SchemaRDD to produce a Transformer. E.g., a learning algorithm is an Estimator which trains on a dataset and produces a model.\n",
    "\n",
    "- Pipeline: A Pipeline chains multiple Transformers and Estimators together to specify an ML workflow.\n",
    "\n",
    "- Param: All Transformers and Estimators now share a common API for specifying parameters."
   ]
  },
  {
   "cell_type": "markdown",
   "metadata": {},
   "source": [
    "## Convert the categorical (string) values into numeric values\n",
    "\n",
    "StringIndexer encodes a string column of labels to a column of label indices. The indices are in [0, numLabels), and four ordering options are supported: “frequencyDesc”: descending order by label frequency (most frequent label assigned 0), “frequencyAsc”: ascending order by label frequency (least frequent label assigned 0), “alphabetDesc”: descending alphabetical order, and “alphabetAsc”: ascending alphabetical order (default = “frequencyDesc”). The unseen labels will be put at index numLabels if user chooses to keep them. If the input column is numeric, we cast it to string and index the string values. When downstream pipeline components such as Estimator or Transformer make use of this string-indexed label, you must set the input column of the component to this string-indexed column name. In many cases, you can set the input column with setInputCol."
   ]
  },
  {
   "cell_type": "code",
   "execution_count": 12,
   "metadata": {},
   "outputs": [],
   "source": [
    "gender_indexer = StringIndexer(inputCol=\"Sex\", outputCol=\"SexIndex\").setHandleInvalid(\"keep\")\n",
    "embark_indexer = StringIndexer(inputCol=\"Embarked\", outputCol=\"EmbarkIndex\").setHandleInvalid(\"keep\")"
   ]
  },
  {
   "cell_type": "markdown",
   "metadata": {},
   "source": [
    "## Convert the numerical index columns into One Hot columns\n",
    "- The One Hot columns are binary {0,1} values of the categories\n",
    "\n",
    "One-hot encoding maps a categorical feature, represented as a label index, to a binary vector with at most a single one-value indicating the presence of a specific feature value from among the set of all feature values. This encoding allows algorithms which expect continuous features, such as Logistic Regression, to use categorical features. For string type input data, it is common to encode categorical features using StringIndexer first.\n",
    "\n",
    "OneHotEncoderEstimator can transform multiple columns, returning an one-hot-encoded output vector column for each input column. It is common to merge these vectors into a single feature vector using VectorAssembler."
   ]
  },
  {
   "cell_type": "code",
   "execution_count": 13,
   "metadata": {},
   "outputs": [],
   "source": [
    "gender_encoder = OneHotEncoder(dropLast=False, inputCol=\"SexIndex\", outputCol=\"SexVec\")\n",
    "embark_encoder = OneHotEncoder(dropLast=False, inputCol=\"EmbarkIndex\", outputCol=\"EmbarkVec\")"
   ]
  },
  {
   "cell_type": "markdown",
   "metadata": {},
   "source": [
    "## Create 8 buckets for the fares, turning a continuous feature into a discrete range \n",
    "\n",
    "Bucketizer transforms a column of continuous features to a column of feature buckets, where the buckets are specified by users. It takes a parameter:\n",
    "\n",
    "splits: Parameter for mapping continuous features into buckets. With n+1 splits, there are n buckets. A bucket defined by splits x,y holds values in the range [x,y) except the last bucket, which also includes y. Splits should be strictly increasing. Values at -inf, inf must be explicitly provided to cover all Double values; Otherwise, values outside the splits specified will be treated as errors. Two examples of splits are Array(Double.NegativeInfinity, 0.0, 1.0, Double.PositiveInfinity) and Array(0.0, 1.0, 2.0)."
   ]
  },
  {
   "cell_type": "code",
   "execution_count": 14,
   "metadata": {},
   "outputs": [],
   "source": [
    "fare_splits = [0.0,10.0,20.0,30.0,40.0,60.0,120.0, float(\"+inf\")]\n",
    "fare_bucketize = Bucketizer().setInputCol(\"Fare\").setOutputCol(\"FareBucketed\").setSplits(fare_splits)"
   ]
  },
  {
   "cell_type": "markdown",
   "metadata": {},
   "source": [
    "## Create a vector of the features.\n",
    "\n",
    "VectorAssembler is a transformer that combines a given list of columns into a single vector column. It is useful for combining raw features and features generated by different feature transformers into a single feature vector, in order to train ML models like logistic regression and decision trees. VectorAssembler accepts the following input column types: all numeric types, boolean type, and vector type. In each row, the values of the input columns will be concatenated into a vector in the specified order."
   ]
  },
  {
   "cell_type": "code",
   "execution_count": 15,
   "metadata": {},
   "outputs": [],
   "source": [
    "assembler = VectorAssembler().setInputCols([\n",
    "                                            \"Pclass\", \n",
    "                                            \"SexVec\", \n",
    "                                            \"Age\", \n",
    "                                            \"SibSp\", \n",
    "                                            \"Parch\", \n",
    "                                            \"Fare\", \n",
    "                                            \"FareBucketed\", \n",
    "                                            \"EmbarkVec\", \n",
    "                                            \"Mil\", \n",
    "                                            \"Doc\", \n",
    "                                            \"Rev\", \n",
    "                                            \"Nob\", \n",
    "                                            \"Mr\", \n",
    "                                            \"Mrs\", \n",
    "                                            \"Miss\", \n",
    "                                            \"Mstr\", \n",
    "                                            \"TotalFamSize\", \n",
    "                                            \"Singleton\", \n",
    "                                            \"SmallFam\", \n",
    "                                            \"LargeFam\", \n",
    "                                            \"Child\", \n",
    "                                            \"Mother\"]\n",
    "                             )\\\n",
    "                             .setOutputCol(\"features\")"
   ]
  },
  {
   "cell_type": "markdown",
   "metadata": {},
   "source": [
    "# Creates the feature pipeline and dataframe input for the model\n",
    "- The order is important here, Indexers have to come before the encoders\n",
    "\n",
    "\n",
    "#### Pipeline\n",
    "In machine learning, it is common to run a sequence of algorithms to process and learn from data. Spark ML represents such a workflow as a Pipeline, which consists of a sequence of PipelineStages (Transformers and Estimators) to be run in a specific order. We will use this simple workflow as a running example in this section.\n",
    "\n",
    "#### Transformer\n",
    "A Transformer is an abstraction which includes feature transformers and learned models. Technically, a Transformer implements a method transform() which converts one SchemaRDD into another, generally by appending one or more columns. For example:\n",
    "\n",
    "A feature transformer might take a dataset, read a column (e.g., text), convert it into a new column (e.g., feature vectors), append the new column to the dataset, and output the updated dataset.\n",
    "A learning model might take a dataset, read the column containing feature vectors, predict the label for each feature vector, append the labels as a new column, and output the updated dataset."
   ]
  },
  {
   "cell_type": "code",
   "execution_count": 16,
   "metadata": {},
   "outputs": [
    {
     "name": "stdout",
     "output_type": "stream",
     "text": [
      "+-----------+--------+------+--------------------+------+----+-----+-----+-----------+-------+-----+--------+-----------+---------+---+---+---+---+---+---+----+----+------------+---------+--------+--------+-----+------+--------+-----------+-------------+-------------+------------+--------------------+\n",
      "|PassengerId|Survived|Pclass|                Name|   Sex| Age|SibSp|Parch|     Ticket|   Fare|Cabin|Embarked|    Surname|Honorific|Mil|Doc|Rev|Nob| Mr|Mrs|Miss|Mstr|TotalFamSize|Singleton|SmallFam|LargeFam|Child|Mother|SexIndex|EmbarkIndex|       SexVec|    EmbarkVec|FareBucketed|            features|\n",
      "+-----------+--------+------+--------------------+------+----+-----+-----+-----------+-------+-----+--------+-----------+---------+---+---+---+---+---+---+----+----+------------+---------+--------+--------+-----+------+--------+-----------+-------------+-------------+------------+--------------------+\n",
      "|         31|       0|     1|Uruchurtu, Don. M...|  male|40.0|    0|    0|   PC 17601|27.7208| null|       C|  Uruchurtu|      Don|  0|  0|  0|  1|  0|  0|   0|   0|           1|        1|       0|       0|    0|     0|     0.0|        1.0|(3,[0],[1.0])|(4,[1],[1.0])|         2.0|(27,[0,1,4,7,8,10...|\n",
      "|        150|       0|     2|Byles, Rev. Thoma...|  male|42.0|    0|    0|     244310|   13.0| null|       S|      Byles|      Rev|  0|  0|  1|  0|  0|  0|   0|   0|           1|        1|       0|       0|    0|     0|     0.0|        0.0|(3,[0],[1.0])|(4,[0],[1.0])|         1.0|(27,[0,1,4,7,8,9,...|\n",
      "|        151|       0|     2|Bateman, Rev. Rob...|  male|51.0|    0|    0|S.O.P. 1166| 12.525| null|       S|    Bateman|      Rev|  0|  0|  1|  0|  0|  0|   0|   0|           1|        1|       0|       0|    0|     0|     0.0|        0.0|(3,[0],[1.0])|(4,[0],[1.0])|         1.0|(27,[0,1,4,7,8,9,...|\n",
      "|        250|       0|     2|Carter, Rev. Erne...|  male|54.0|    1|    0|     244252|   26.0| null|       S|     Carter|      Rev|  0|  0|  1|  0|  0|  0|   0|   0|           2|        0|       1|       0|    0|     0|     0.0|        0.0|(3,[0],[1.0])|(4,[0],[1.0])|         2.0|(27,[0,1,4,5,7,8,...|\n",
      "|        370|       1|     1|Aubart, Mme. Leon...|female|24.0|    0|    0|   PC 17477|   69.3|  B35|       C|     Aubart|      Mme|  0|  0|  0|  0|  0|  1|   0|   0|           1|        1|       0|       0|    0|     0|     1.0|        1.0|(3,[1],[1.0])|(4,[1],[1.0])|         5.0|(27,[0,2,4,7,8,10...|\n",
      "|        444|       1|     2|Reynaldo, Ms. Enc...|female|28.0|    0|    0|     230434|   13.0| null|       S|   Reynaldo|       Ms|  0|  0|  0|  0|  0|  0|   0|   0|           1|        1|       0|       0|    0|     0|     1.0|        0.0|(3,[1],[1.0])|(4,[0],[1.0])|         1.0|(27,[0,2,4,7,8,9,...|\n",
      "|        450|       1|     1|Peuchen, Major. A...|  male|52.0|    0|    0|     113786|   30.5| C104|       S|    Peuchen|    Major|  1|  0|  0|  0|  0|  0|   0|   0|           1|        1|       0|       0|    0|     0|     0.0|        0.0|(3,[0],[1.0])|(4,[0],[1.0])|         3.0|(27,[0,1,4,7,8,9,...|\n",
      "|        537|       0|     1|Butt, Major. Arch...|  male|45.0|    0|    0|     113050|  26.55|  B38|       S|       Butt|    Major|  1|  0|  0|  0|  0|  0|   0|   0|           1|        1|       0|       0|    0|     0|     0.0|        0.0|(3,[0],[1.0])|(4,[0],[1.0])|         2.0|(27,[0,1,4,7,8,9,...|\n",
      "|        557|       1|     1|\"Duff Gordon, Lad...|female|48.0|    1|    0|      11755|   39.6|  A16|       C|Duff Gordon|     Lady|  0|  0|  0|  1|  0|  0|   0|   0|           2|        0|       1|       0|    0|     0|     1.0|        1.0|(3,[1],[1.0])|(4,[1],[1.0])|         3.0|(27,[0,2,4,5,7,8,...|\n",
      "|        600|       1|     1|\"Duff Gordon, Sir...|  male|49.0|    1|    0|   PC 17485|56.9292|  A20|       C|Duff Gordon|      Sir|  0|  0|  0|  1|  0|  0|   0|   0|           2|        0|       1|       0|    0|     0|     0.0|        1.0|(3,[0],[1.0])|(4,[1],[1.0])|         4.0|(27,[0,1,4,5,7,8,...|\n",
      "|        627|       0|     2|Kirkland, Rev. Ch...|  male|57.0|    0|    0|     219533|  12.35| null|       Q|   Kirkland|      Rev|  0|  0|  1|  0|  0|  0|   0|   0|           1|        1|       0|       0|    0|     0|     0.0|        2.0|(3,[0],[1.0])|(4,[2],[1.0])|         1.0|(27,[0,1,4,7,8,11...|\n",
      "|        642|       1|     1|Sagesser, Mlle. Emma|female|24.0|    0|    0|   PC 17477|   69.3|  B35|       C|   Sagesser|     Mlle|  0|  0|  0|  0|  0|  0|   1|   0|           1|        1|       0|       0|    0|     0|     1.0|        1.0|(3,[1],[1.0])|(4,[1],[1.0])|         5.0|(27,[0,2,4,7,8,10...|\n",
      "|        648|       1|     1|Simonius-Blumer, ...|  male|56.0|    0|    0|      13213|   35.5|  A26|       C|     Blumer|      Col|  1|  0|  0|  0|  0|  0|   0|   0|           1|        1|       0|       0|    0|     0|     0.0|        1.0|(3,[0],[1.0])|(4,[1],[1.0])|         3.0|(27,[0,1,4,7,8,10...|\n",
      "|        695|       0|     1|     Weir, Col. John|  male|60.0|    0|    0|     113800|  26.55| null|       S|       Weir|      Col|  1|  0|  0|  0|  0|  0|   0|   0|           1|        1|       0|       0|    0|     0|     0.0|        0.0|(3,[0],[1.0])|(4,[0],[1.0])|         2.0|(27,[0,1,4,7,8,9,...|\n",
      "|        711|       1|     1|\"Mayne, Mlle. Ber...|female|24.0|    0|    0|   PC 17482|49.5042|  C90|       C|      Mayne|     Mlle|  0|  0|  0|  0|  0|  0|   1|   0|           1|        1|       0|       0|    0|     0|     1.0|        1.0|(3,[1],[1.0])|(4,[1],[1.0])|         4.0|(27,[0,2,4,7,8,10...|\n",
      "|        746|       0|     1|Crosby, Capt. Edw...|  male|70.0|    1|    1|  WE/P 5735|   71.0|  B22|       S|     Crosby|     Capt|  1|  0|  0|  0|  0|  0|   0|   0|           3|        0|       1|       0|    0|     0|     0.0|        0.0|(3,[0],[1.0])|(4,[0],[1.0])|         5.0|(27,[0,1,4,5,6,7,...|\n",
      "|        760|       1|     1|Rothes, the Count...|female|33.0|    0|    0|     110152|   86.5|  B77|       S|     Rothes| Countess|  0|  0|  0|  1|  0|  0|   0|   0|           1|        1|       0|       0|    0|     0|     1.0|        0.0|(3,[1],[1.0])|(4,[0],[1.0])|         5.0|(27,[0,2,4,7,8,9,...|\n",
      "|        823|       0|     1|Reuchlin, Jonkhee...|  male|38.0|    0|    0|      19972|    0.0| null|       S|   Reuchlin| Jonkheer|  0|  0|  0|  1|  0|  0|   0|   0|           1|        1|       0|       0|    0|     0|     0.0|        0.0|(3,[0],[1.0])|(4,[0],[1.0])|         0.0|(27,[0,1,4,9,16,2...|\n",
      "|        849|       0|     2|   Harper, Rev. John|  male|28.0|    0|    1|     248727|   33.0| null|       S|     Harper|      Rev|  0|  0|  1|  0|  0|  0|   0|   0|           2|        0|       1|       0|    0|     0|     0.0|        0.0|(3,[0],[1.0])|(4,[0],[1.0])|         3.0|(27,[0,1,4,6,7,8,...|\n",
      "|        887|       0|     2|Montvila, Rev. Ju...|  male|27.0|    0|    0|     211536|   13.0| null|       S|   Montvila|      Rev|  0|  0|  1|  0|  0|  0|   0|   0|           1|        1|       0|       0|    0|     0|     0.0|        0.0|(3,[0],[1.0])|(4,[0],[1.0])|         1.0|(27,[0,1,4,7,8,9,...|\n",
      "+-----------+--------+------+--------------------+------+----+-----+-----+-----------+-------+-----+--------+-----------+---------+---+---+---+---+---+---+----+----+------------+---------+--------+--------+-----+------+--------+-----------+-------------+-------------+------------+--------------------+\n",
      "only showing top 20 rows\n",
      "\n"
     ]
    }
   ],
   "source": [
    "training_features_pipeline = (Pipeline().setStages([\n",
    "                                                    gender_indexer, \n",
    "                                                    embark_indexer, \n",
    "                                                    gender_encoder, \n",
    "                                                    embark_encoder, \n",
    "                                                    fare_bucketize, \n",
    "                                                    assembler]))\n",
    "training_features_df = training_features_pipeline.fit(train_combined_df).transform(train_combined_df)\n",
    "training_features_df.show()"
   ]
  },
  {
   "cell_type": "markdown",
   "metadata": {},
   "source": [
    "## Now that the data has been prepared, let's split the dataset into a training and test dataframe"
   ]
  },
  {
   "cell_type": "code",
   "execution_count": 17,
   "metadata": {},
   "outputs": [
    {
     "name": "stdout",
     "output_type": "stream",
     "text": [
      "+--------------------+\n",
      "|            features|\n",
      "+--------------------+\n",
      "|(27,[0,1,4,7,8,10...|\n",
      "|(27,[0,1,4,7,8,9,...|\n",
      "|(27,[0,1,4,7,8,9,...|\n",
      "|(27,[0,1,4,5,7,8,...|\n",
      "|(27,[0,2,4,7,8,9,...|\n",
      "|(27,[0,1,4,7,8,9,...|\n",
      "|(27,[0,1,4,5,7,8,...|\n",
      "|(27,[0,1,4,7,8,11...|\n",
      "|(27,[0,2,4,7,8,10...|\n",
      "|(27,[0,1,4,7,8,10...|\n",
      "|(27,[0,1,4,7,8,9,...|\n",
      "|(27,[0,2,4,7,8,10...|\n",
      "|(27,[0,1,4,6,7,8,...|\n",
      "|(27,[0,1,4,7,8,9,...|\n",
      "|(27,[0,2,4,7,9,19...|\n",
      "|(27,[0,2,4,7,8,9,...|\n",
      "|(27,[0,2,4,7,9,19...|\n",
      "|(27,[0,2,4,7,11,1...|\n",
      "|(27,[0,2,4,5,6,7,...|\n",
      "|(27,[0,2,4,5,7,8,...|\n",
      "+--------------------+\n",
      "only showing top 20 rows\n",
      "\n"
     ]
    }
   ],
   "source": [
    "train_df, test_df = training_features_df.randomSplit([0.8, 0.2], seed = 12345)\n",
    "train_df.select(\"features\").show(20)"
   ]
  },
  {
   "cell_type": "code",
   "execution_count": 18,
   "metadata": {},
   "outputs": [],
   "source": [
    "train_df.toPandas().to_csv(\"../data/train_features.csv\", sep='\\t', encoding='utf-8')\n",
    "test_df.toPandas().to_csv(\"../data/test_features.csv\", sep='\\t', encoding='utf-8')"
   ]
  },
  {
   "cell_type": "markdown",
   "metadata": {},
   "source": [
    "# Data Engineers Job Is Done!\n",
    "\n",
    "---------------------------------------------"
   ]
  },
  {
   "cell_type": "code",
   "execution_count": 19,
   "metadata": {},
   "outputs": [
    {
     "data": {
      "image/jpeg": "[encoded data removed]",
      "text/plain": [
       "<IPython.core.display.Image object>"
      ]
     },
     "execution_count": 19,
     "metadata": {},
     "output_type": "execute_result"
    }
   ],
   "source": [
    "from IPython.display import Image\n",
    "Image(filename='../img/gold-star.jpg')"
   ]
  },
  {
   "cell_type": "markdown",
   "metadata": {},
   "source": [
    "--------\n",
    "\n",
    "# Predict Survivors using PySpark XGBoost Model"
   ]
  },
  {
   "cell_type": "markdown",
   "metadata": {},
   "source": [
    "#### XGBoost\n",
    "XGBoost is an optimized distributed gradient boosting library designed to be highly efficient, flexible and portable. It implements machine learning algorithms under the Gradient Boosting framework. XGBoost provides a parallel tree boosting (also known as GBDT, GBM) that solve many data science problems in a fast and accurate way. The same code runs on major distributed environment (Hadoop, SGE, MPI) and can solve problems beyond billions of examples.\n",
    "\n",
    "#### XGBoost4J-Spark\n",
    "XGBoost4J-Spark is a project aiming to seamlessly integrate XGBoost and Apache Spark by fitting XGBoost to Apache Spark’s MLLIB framework. With the integration, user can not only uses the high-performant algorithm implementation of XGBoost, but also leverages the powerful data processing engine of Spark for:\n",
    "\n",
    "- Feature Engineering: feature extraction, transformation, dimensionality reduction, and selection, etc.\n",
    "- Pipelines: constructing, evaluating, and tuning ML Pipelines\n",
    "- Persistence: persist and load machine learning models and even whole Pipelines\n",
    "\n",
    "https://xgboost.readthedocs.io/en/latest/python/index.html"
   ]
  },
  {
   "cell_type": "code",
   "execution_count": 20,
   "metadata": {},
   "outputs": [],
   "source": [
    "class XGBoostEstimator(JavaEstimator, HasFeaturesCol, HasLabelCol):\n",
    "    def __init__(self, xgb_param_map={}):\n",
    "        super(XGBoostEstimator, self).__init__()\n",
    "        sc = SparkContext._active_spark_context\n",
    "        scala_map = sc._jvm.PythonUtils.toScalaMap(xgb_param_map)\n",
    "        self._defaultParamMap = xgb_param_map\n",
    "        self._paramMap = xgb_param_map\n",
    "        self._from_XGBParamMap_to_params()\n",
    "        self._java_obj = self._new_java_obj(\"ml.dmlc.xgboost4j.scala.spark.XGBoostEstimator\", self.uid, scala_map)\n",
    "\n",
    "    def _create_model(self, java_model):\n",
    "        return JavaModel(java_model)\n",
    "\n",
    "    def _from_XGBParamMap_to_params(self):\n",
    "        for param, value in self._paramMap.items():\n",
    "            setattr(self, param, value)"
   ]
  },
  {
   "cell_type": "markdown",
   "metadata": {},
   "source": [
    "# Pipeline with Hyper-parameter Tunning\n",
    "The most critical operation to maximize the power of XGBoost is to select the optimal parameters for the model. Tuning parameters manually is a tedious and labor-consuming process. With the latest version of XGBoost4J-Spark, we can utilize the Spark model selecting tool to automate this process.\n",
    "\n",
    "In the code snippet where we build XGBoostClassifier, we set parameter num_workers (or numWorkers). This parameter controls how many parallel workers we want to have when training a XGBoostClassificationModel.\n",
    "\n",
    "https://xgboost.readthedocs.io/en/latest/parameter.html"
   ]
  },
  {
   "cell_type": "code",
   "execution_count": 41,
   "metadata": {},
   "outputs": [],
   "source": [
    "params = {}\n",
    "params[\"eta\"] = 0.1\n",
    "params[\"max_depth\"] = 8\n",
    "params[\"gamma\"] = 0.0\n",
    "params[\"colsample_bylevel\"] = 1\n",
    "params[\"objective\"] = \"binary:logistic\"\n",
    "params[\"num_class\"] = 2\n",
    "params[\"booster\"] = \"gbtree\"\n",
    "params[\"num_rounds\"] = 20\n",
    "params[\"num_workers\"] = 3"
   ]
  },
  {
   "cell_type": "markdown",
   "metadata": {},
   "source": [
    "# Create an XGBoost Classifier\n",
    "\n",
    "#### Batch Prediction\n",
    "When we get a model, either XGBoostClassificationModel or XGBoostRegressionModel, it takes a DataFrame, read the column containing feature vectors, predict for each feature vector, and output a new DataFrame with the following columns by default:\n",
    "\n",
    "XGBoostClassificationModel will output margins (rawPredictionCol), probabilities(probabilityCol) and the eventual prediction labels (predictionCol) for each possible label\n",
    "\n",
    "#### Estimators\n",
    "An Estimator abstracts the concept of a learning algorithm or any algorithm which fits or trains on data. Technically, an Estimator implements a method fit() which accepts a SchemaRDD and produces a Transformer. For example, a learning algorithm such as LogisticRegression is an Estimator, and calling fit() trains a LogisticRegressionModel, which is a Transformer."
   ]
  },
  {
   "cell_type": "code",
   "execution_count": 43,
   "metadata": {},
   "outputs": [],
   "source": [
    "xgbEstimator = XGBoostEstimator(params).setFeaturesCol(\"features\")\\\n",
    "                                       .setLabelCol(\"Survived\")"
   ]
  },
  {
   "cell_type": "markdown",
   "metadata": {},
   "source": [
    "# XGBoost paramater grid\n",
    "\n",
    "#### Parameters\n",
    "Spark ML Estimators and Transformers use a uniform API for specifying parameters.\n",
    "\n",
    "A Param is a named parameter with self-contained documentation. \n",
    "A ParamMap is a set of (parameter, value) pairs.\n",
    "\n",
    "There are two main ways to pass parameters to an algorithm:\n",
    "\n",
    "- Set parameters for an instance. E.g., if lr is an instance of LogisticRegression, one could call lr.setMaxIter(10) to make lr.fit() use at most 10 iterations. This API resembles the API used in MLlib.\n",
    "- Pass a ParamMap to fit() or transform(). Any parameters in the ParamMap will override parameters previously specified via setter methods."
   ]
  },
  {
   "cell_type": "code",
   "execution_count": 45,
   "metadata": {},
   "outputs": [],
   "source": [
    "xgbParamGrid = ParamGridBuilder() \\\n",
    "                                .addGrid(xgbEstimator.max_depth, [16]) \\\n",
    "                                .addGrid(xgbEstimator.eta, [0.015]) \\\n",
    "                                .build()"
   ]
  },
  {
   "cell_type": "markdown",
   "metadata": {},
   "source": [
    "# Create the XGBoost pipeline"
   ]
  },
  {
   "cell_type": "code",
   "execution_count": 47,
   "metadata": {},
   "outputs": [],
   "source": [
    "pipeline = Pipeline().setStages([xgbEstimator])"
   ]
  },
  {
   "cell_type": "markdown",
   "metadata": {},
   "source": [
    "# Setup the binary classifier evaluator\n",
    "The following example shows the code snippet utilizing CrossValidation and BinaryClassificationEvaluator to search the optimal combination of two XGBoost parameters, max_depth and eta. (See XGBoost Parameters above.) The model producing the maximum accuracy defined by BinaryClassificationEvaluator is selected and used to generate the prediction for the test set."
   ]
  },
  {
   "cell_type": "code",
   "execution_count": 49,
   "metadata": {},
   "outputs": [],
   "source": [
    "evaluator = BinaryClassificationEvaluator().setLabelCol(\"Survived\")\\\n",
    "                                              .setRawPredictionCol(\"prediction\")\\\n",
    "                                              .setMetricName(\"areaUnderROC\")"
   ]
  },
  {
   "cell_type": "markdown",
   "metadata": {},
   "source": [
    "### Setup CrossValidator"
   ]
  },
  {
   "cell_type": "code",
   "execution_count": 50,
   "metadata": {},
   "outputs": [],
   "source": [
    "cv = CrossValidator().setEstimator(pipeline) \\\n",
    "                      .setEvaluator(evaluator)\\\n",
    "                      .setEstimatorParamMaps(xgbParamGrid) \\\n",
    "                      .setNumFolds(10)"
   ]
  },
  {
   "cell_type": "markdown",
   "metadata": {},
   "source": [
    "After we set XGBoostClassifier parameters and feature/label column, we can build a transformer, XGBoostClassificationModel by fitting XGBoostClassifier with the input DataFrame. This fit operation is essentially the training process and the generated model can then be used in prediction."
   ]
  },
  {
   "cell_type": "code",
   "execution_count": 51,
   "metadata": {},
   "outputs": [],
   "source": [
    "xgb_model = cv.fit(train_df)"
   ]
  },
  {
   "cell_type": "markdown",
   "metadata": {},
   "source": [
    "# Model Results"
   ]
  },
  {
   "cell_type": "code",
   "execution_count": 52,
   "metadata": {},
   "outputs": [],
   "source": [
    "results = xgb_model.transform(test_df)"
   ]
  },
  {
   "cell_type": "code",
   "execution_count": 53,
   "metadata": {},
   "outputs": [
    {
     "name": "stdout",
     "output_type": "stream",
     "text": [
      "+---+------+------+----+-----+-----+--------+---+--------+----------+--------------------+\n",
      "|PID|Pclass|   Sex| Age|SibSp|Parch|     Hon|Fam|Survived|prediction|       probabilities|\n",
      "+---+------+------+----+-----+-----+--------+---+--------+----------+--------------------+\n",
      "|537|     1|  male|45.0|    0|    0|   Major|  1|       0|       1.0|[0.45705056190490...|\n",
      "|823|     1|  male|38.0|    0|    0|Jonkheer|  1|       0|       1.0|[0.45705056190490...|\n",
      "| 69|     3|female|17.0|    4|    2|    Miss|  7|       1|       0.0|[0.53711110353469...|\n",
      "|193|     3|female|19.0|    1|    0|    Miss|  2|       1|       0.0|           [0.5,0.5]|\n",
      "|217|     3|female|27.0|    0|    0|    Miss|  1|       1|       0.0|           [0.5,0.5]|\n",
      "|358|     2|female|38.0|    0|    0|    Miss|  1|       0|       1.0|[0.45705056190490...|\n",
      "|594|     3|female|22.0|    0|    2|    Miss|  3|       0|       1.0|[0.47225075960159...|\n",
      "|655|     3|female|18.0|    0|    0|    Miss|  1|       0|       1.0|[0.47225075960159...|\n",
      "|692|     3|female| 4.0|    0|    1|    Miss|  2|       1|       0.0|[0.51249736547470...|\n",
      "|170|     3|  male|28.0|    0|    0|      Mr|  1|       0|       1.0|[0.48750263452529...|\n",
      "|188|     1|  male|45.0|    0|    0|      Mr|  1|       1|       0.0|[0.50999867916107...|\n",
      "|391|     1|  male|36.0|    1|    2|      Mr|  4|       1|       0.0|           [0.5,0.5]|\n",
      "|570|     3|  male|32.0|    0|    0|      Mr|  1|       1|       0.0|[0.53857350349426...|\n",
      "|584|     1|  male|36.0|    0|    0|      Mr|  1|       0|       1.0|[0.47003597021102...|\n",
      "|623|     3|  male|20.0|    1|    1|      Mr|  3|       1|       0.0|[0.53857350349426...|\n",
      "|631|     1|  male|80.0|    0|    0|      Mr|  1|       1|       0.0|[0.53881067037582...|\n",
      "|646|     1|  male|48.0|    1|    0|      Mr|  2|       1|       0.0|           [0.5,0.5]|\n",
      "|749|     1|  male|19.0|    1|    0|      Mr|  2|       0|       1.0|[0.47502082586288...|\n",
      "|763|     3|  male|20.0|    0|    0|      Mr|  1|       1|       0.0|[0.53857350349426...|\n",
      "|805|     3|  male|27.0|    0|    0|      Mr|  1|       1|       0.0|[0.53857350349426...|\n",
      "+---+------+------+----+-----+-----+--------+---+--------+----------+--------------------+\n",
      "only showing top 20 rows\n",
      "\n"
     ]
    }
   ],
   "source": [
    "results.createOrReplaceTempView(\"results\")\n",
    "spark.sql(\"\"\"\n",
    "            SELECT \n",
    "                PassengerID as PID,\n",
    "                Pclass,\n",
    "                Sex,\n",
    "                Age,\n",
    "                SibSp,\n",
    "                Parch,\n",
    "                Honorific as Hon,\n",
    "                TotalFamSize as Fam,\n",
    "                Survived,\n",
    "                prediction,\n",
    "                probabilities \n",
    "            FROM results \n",
    "            where Survived != cast(prediction as int)\n",
    "           \"\"\").show()"
   ]
  },
  {
   "cell_type": "markdown",
   "metadata": {},
   "source": [
    "# What was the overall accuracy of the model, using AUC\n",
    "\n",
    "After we get the PipelineModel, we can make prediction on the test dataset and evaluate the model accuracy."
   ]
  },
  {
   "cell_type": "code",
   "execution_count": 30,
   "metadata": {},
   "outputs": [
    {
     "data": {
      "text/plain": [
       "0.8365709459459459"
      ]
     },
     "execution_count": 30,
     "metadata": {},
     "output_type": "execute_result"
    }
   ],
   "source": [
    "evaluator.evaluate(results)"
   ]
  },
  {
   "cell_type": "code",
   "execution_count": null,
   "metadata": {},
   "outputs": [],
   "source": []
  }
 ],
 "metadata": {
  "kernelspec": {
   "display_name": "Python 3",
   "language": "python",
   "name": "python3"
  },
  "language_info": {
   "codemirror_mode": {
    "name": "ipython",
    "version": 3
   },
   "file_extension": ".py",
   "mimetype": "text/x-python",
   "name": "python",
   "nbconvert_exporter": "python",
   "pygments_lexer": "ipython3",
   "version": "3.6.4"
  }
 },
 "nbformat": 4,
 "nbformat_minor": 2
}
